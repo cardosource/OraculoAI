{
 "cells": [
  {
   "cell_type": "code",
   "execution_count": 1,
   "id": "ad75381c",
   "metadata": {},
   "outputs": [
    {
     "name": "stderr",
     "output_type": "stream",
     "text": [
      "2023-05-11 19:49:59.718463: I tensorflow/tsl/cuda/cudart_stub.cc:28] Could not find cuda drivers on your machine, GPU will not be used.\n",
      "2023-05-11 19:50:00.122190: I tensorflow/tsl/cuda/cudart_stub.cc:28] Could not find cuda drivers on your machine, GPU will not be used.\n",
      "2023-05-11 19:50:12.498968: W tensorflow/compiler/tf2tensorrt/utils/py_utils.cc:38] TF-TRT Warning: Could not find TensorRT\n"
     ]
    },
    {
     "name": "stdout",
     "output_type": "stream",
     "text": [
      "7/7 [==============================] - 0s 38ms/step\n",
      "MSE LSTM: 0.15026947110553945\n",
      "7/7 [==============================] - 0s 24ms/step\n",
      "R2 LSTM: 0.8447624565373638\n",
      "Previsão LSTM: [55.87656   18.870453  26.946827  33.113792  41.399174  49.255474\n",
      " 56.982697   8.177263  18.74014   26.575218  36.462837  44.46648\n",
      " 53.30632    3.6317232 15.040325  24.519415  35.296898  43.315376\n",
      " 51.909676   6.8613944 16.929033  25.294193  35.480072  43.62959\n",
      " 52.067444   4.8886657 15.596995  24.621546  35.25117   43.35172\n",
      " 51.837036   6.195688  16.452911  25.025257  35.3654    43.509483 ]\n"
     ]
    }
   ],
   "source": [
    "\"\"\"\n",
    "MSE baixo significa que o modelo está produzindo previsões próximas aos valores reais,\n",
    "enquanto um alto R2 indica que a maior parte da variação nos dados está sendo explicada \n",
    "pelo modelo.\n",
    "\n",
    "- Modelo está sendo capaz de prever resultados com alta precisão.\n",
    "\n",
    "Valores reais.\n",
    "MSE LSTM: 0.15506279163361772\n",
    "R2 LSTM: 0.8398106636127365 \n",
    "\n",
    "\"\"\"\n",
    "\n",
    "import pandas as pd\n",
    "import numpy as np\n",
    "import matplotlib.pyplot as plt\n",
    "from sklearn.preprocessing import StandardScaler\n",
    "from keras.models import Sequential\n",
    "from keras.layers import LSTM, Dense\n",
    "from sklearn.metrics import mean_squared_error, r2_score\n",
    "\n",
    "\n",
    "df = pd.read_csv('https://raw.githubusercontent.com/cardosource/OraculoAI/main/2022.csv', header=None)\n",
    "data = np.array(df).reshape(-1, 1)\n",
    "scaler = StandardScaler()\n",
    "data_scaled = scaler.fit_transform(data)\n",
    "\n",
    " \n",
    "lookback = 6  # número de passos de tempo para trás\n",
    "X = []\n",
    "y = []\n",
    "for i in range(lookback, len(data)):\n",
    "    X.append(data_scaled[i-lookback:i, 0])\n",
    "    y.append(data_scaled[i, 0])\n",
    "X, y = np.array(X), np.array(y)\n",
    "\n",
    "train_size = int(len(X) * 0.7)\n",
    "X_train, X_test = X[:train_size], X[train_size:]\n",
    "y_train, y_test = y[:train_size], y[train_size:]\n",
    "\n",
    "# construção do modelo LSTM\n",
    "model_lstm = Sequential()\n",
    "model_lstm.add(LSTM(50, activation='relu', input_shape=(lookback, 1)))\n",
    "model_lstm.add(Dense(1))\n",
    "model_lstm.compile(optimizer='adam', loss='mse')\n",
    "model_lstm.fit(X_train.reshape((X_train.shape[0], X_train.shape[1], 1)), y_train, epochs=200, verbose=0)\n",
    "\n",
    "forecast_lstm = []\n",
    "current_lstm = X_test[-1]\n",
    "for i in range(36):\n",
    "    x_input = np.reshape(current_lstm, (1, lookback, 1))\n",
    "    yhat = model_lstm.predict(x_input, verbose=0)\n",
    "    forecast_lstm.append(yhat[0])\n",
    "    current_lstm = np.append(current_lstm[1:], yhat[0])\n",
    "forecast_lstm = scaler.inverse_transform(np.array(forecast_lstm).reshape(-1, 1))\n",
    "\n",
    "# Avaliação do modelo LSTM\n",
    "print('MSE LSTM:', mean_squared_error(y_test, model_lstm.predict(X_test.reshape((X_test.shape[0], X_test.shape[1], 1)))))\n",
    "print('R2 LSTM:', r2_score(y_test, model_lstm.predict(X_test.reshape((X_test.shape[0], X_test.shape[1], 1)))))\n",
    " \n",
    "print('Previsão LSTM:', forecast_lstm.flatten())\n"
   ]
  }
 ],
 "metadata": {
  "kernelspec": {
   "display_name": "Python 3 (ipykernel)",
   "language": "python",
   "name": "python3"
  },
  "language_info": {
   "codemirror_mode": {
    "name": "ipython",
    "version": 3
   },
   "file_extension": ".py",
   "mimetype": "text/x-python",
   "name": "python",
   "nbconvert_exporter": "python",
   "pygments_lexer": "ipython3",
   "version": "3.10.10"
  }
 },
 "nbformat": 4,
 "nbformat_minor": 5
}
